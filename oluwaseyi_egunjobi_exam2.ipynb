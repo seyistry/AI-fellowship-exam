{
 "cells": [
  {
   "cell_type": "markdown",
   "id": "3cbe6843",
   "metadata": {},
   "source": [
    "# Month 2 - exams"
   ]
  },
  {
   "cell_type": "code",
   "execution_count": 33,
   "id": "549e51c6",
   "metadata": {},
   "outputs": [],
   "source": [
    "import pandas as pd\n",
    "import numpy as numpy\n",
    "from scipy import stats\n",
    "import os"
   ]
  },
  {
   "cell_type": "markdown",
   "id": "63c47ce9",
   "metadata": {},
   "source": [
    "## Question1 - Pandas for Data Analysis\n",
    "\n",
    "### Instructions\n",
    "You are required to perform the following data wrangling tasks using Pandas and NumPy.\n",
    "\n",
    "Load the dataset directly from the GitHub link https://raw.githubusercontent.com/ek-chris/Practice_datasets/refs/heads/main/eletronic_sales.csv provided.\n",
    "\n",
    "Write clean and efficient Python code for each question.\n",
    "\n",
    "Ensure each solution outputs a well-structured DataFrame or value as required.\n",
    "\n",
    "Your submission should be made as a Jupyter Notebook (.ipynb) file.\n",
    "\n",
    "Include both your code and outputs for every question.\n",
    "\n",
    "Ensure your notebook is clearly organized and well-commented.\n",
    "\n",
    "e. Product-Level Summary (6 marks)\n",
    "Generate a summary DataFrame that shows each product’s average price and total units sold.\n"
   ]
  },
  {
   "cell_type": "markdown",
   "id": "34d3b4df",
   "metadata": {},
   "source": []
  },
  {
   "cell_type": "markdown",
   "id": "1b50fe69",
   "metadata": {},
   "source": [
    "### a. Data Loading, Datetime Conversion and Feature Extraction (6 marks)\n",
    "Load the dataset from the GitHub link. Convert the Date column to datetime format, and create new columns for Year, Month, Day, and Day_of_Week."
   ]
  },
  {
   "cell_type": "code",
   "execution_count": 26,
   "id": "47d7e129",
   "metadata": {},
   "outputs": [
    {
     "data": {
      "text/html": [
       "<div>\n",
       "<style scoped>\n",
       "    .dataframe tbody tr th:only-of-type {\n",
       "        vertical-align: middle;\n",
       "    }\n",
       "\n",
       "    .dataframe tbody tr th {\n",
       "        vertical-align: top;\n",
       "    }\n",
       "\n",
       "    .dataframe thead th {\n",
       "        text-align: right;\n",
       "    }\n",
       "</style>\n",
       "<table border=\"1\" class=\"dataframe\">\n",
       "  <thead>\n",
       "    <tr style=\"text-align: right;\">\n",
       "      <th></th>\n",
       "      <th>Date</th>\n",
       "      <th>Branch</th>\n",
       "      <th>Sales Agent</th>\n",
       "      <th>Products</th>\n",
       "      <th>Units</th>\n",
       "      <th>Price</th>\n",
       "      <th>Year</th>\n",
       "      <th>Month</th>\n",
       "      <th>Day</th>\n",
       "      <th>Day_of_Week</th>\n",
       "    </tr>\n",
       "  </thead>\n",
       "  <tbody>\n",
       "    <tr>\n",
       "      <th>0</th>\n",
       "      <td>2014-09-01</td>\n",
       "      <td>Woji</td>\n",
       "      <td>Chinedu</td>\n",
       "      <td>Apple</td>\n",
       "      <td>2</td>\n",
       "      <td>125.0</td>\n",
       "      <td>2014</td>\n",
       "      <td>9</td>\n",
       "      <td>1</td>\n",
       "      <td>Monday</td>\n",
       "    </tr>\n",
       "    <tr>\n",
       "      <th>1</th>\n",
       "      <td>2015-06-17</td>\n",
       "      <td>Woji</td>\n",
       "      <td>Emeka</td>\n",
       "      <td>Apple</td>\n",
       "      <td>5</td>\n",
       "      <td>125.0</td>\n",
       "      <td>2015</td>\n",
       "      <td>6</td>\n",
       "      <td>17</td>\n",
       "      <td>Wednesday</td>\n",
       "    </tr>\n",
       "  </tbody>\n",
       "</table>\n",
       "</div>"
      ],
      "text/plain": [
       "        Date Branch Sales Agent Products  Units  Price  Year  Month  Day  \\\n",
       "0 2014-09-01   Woji     Chinedu    Apple      2  125.0  2014      9    1   \n",
       "1 2015-06-17   Woji       Emeka    Apple      5  125.0  2015      6   17   \n",
       "\n",
       "  Day_of_Week  \n",
       "0      Monday  \n",
       "1   Wednesday  "
      ]
     },
     "execution_count": 26,
     "metadata": {},
     "output_type": "execute_result"
    }
   ],
   "source": [
    "url = \"https://raw.githubusercontent.com/ek-chris/Practice_datasets/refs/heads/main/eletronic_sales.csv\"\n",
    "df = pd.read_csv(url)\n",
    "\n",
    "df['Date'] = pd.to_datetime(df['Date'], errors='coerce')\n",
    "df['Year'] = df['Date'].dt.year\n",
    "df['Month'] = df['Date'].dt.month\n",
    "df['Day'] = df['Date'].dt.day\n",
    "df['Day_of_Week'] = df['Date'].dt.day_name()\n",
    "df.head(2)"
   ]
  },
  {
   "cell_type": "markdown",
   "id": "210b3819",
   "metadata": {},
   "source": [
    "### b. Branch-Level Total Sales (6 marks)\n",
    "Calculate the total sales for each branch, where Total Sales = Units × Price. Return a new DataFrame showing Branch and Total_Sales."
   ]
  },
  {
   "cell_type": "code",
   "execution_count": 10,
   "id": "abb12dd2",
   "metadata": {},
   "outputs": [
    {
     "data": {
      "text/html": [
       "<div>\n",
       "<style scoped>\n",
       "    .dataframe tbody tr th:only-of-type {\n",
       "        vertical-align: middle;\n",
       "    }\n",
       "\n",
       "    .dataframe tbody tr th {\n",
       "        vertical-align: top;\n",
       "    }\n",
       "\n",
       "    .dataframe thead th {\n",
       "        text-align: right;\n",
       "    }\n",
       "</style>\n",
       "<table border=\"1\" class=\"dataframe\">\n",
       "  <thead>\n",
       "    <tr style=\"text-align: right;\">\n",
       "      <th></th>\n",
       "      <th>Branch</th>\n",
       "      <th>Total_Sales</th>\n",
       "    </tr>\n",
       "  </thead>\n",
       "  <tbody>\n",
       "    <tr>\n",
       "      <th>2</th>\n",
       "      <td>Woji</td>\n",
       "      <td>11139.07</td>\n",
       "    </tr>\n",
       "    <tr>\n",
       "      <th>0</th>\n",
       "      <td>GRA</td>\n",
       "      <td>6002.09</td>\n",
       "    </tr>\n",
       "    <tr>\n",
       "      <th>1</th>\n",
       "      <td>Town</td>\n",
       "      <td>2486.72</td>\n",
       "    </tr>\n",
       "  </tbody>\n",
       "</table>\n",
       "</div>"
      ],
      "text/plain": [
       "  Branch  Total_Sales\n",
       "2   Woji     11139.07\n",
       "0    GRA      6002.09\n",
       "1   Town      2486.72"
      ]
     },
     "execution_count": 10,
     "metadata": {},
     "output_type": "execute_result"
    }
   ],
   "source": [
    "# Calculate Total_Sales per branch and return a new DataFrame\n",
    "branch_total_sales = (\n",
    "\tdf.assign(Total_Sales=df['Units'] * df['Price'])\n",
    "\t  .groupby('Branch', as_index=False)['Total_Sales']\n",
    "\t  .sum()\n",
    "\t  .sort_values('Total_Sales', ascending=False)\n",
    ")\n",
    "\n",
    "branch_total_sales\n",
    "\n"
   ]
  },
  {
   "cell_type": "markdown",
   "id": "1e62e2e9",
   "metadata": {},
   "source": [
    "### c. Top Performing Sales Agent (6 marks)\n",
    "Determine the top-performing sales agent based on total sales across all branches. Display both the agent’s name and their total sales amount."
   ]
  },
  {
   "cell_type": "code",
   "execution_count": 16,
   "id": "b9155e18",
   "metadata": {},
   "outputs": [
    {
     "data": {
      "text/html": [
       "<div>\n",
       "<style scoped>\n",
       "    .dataframe tbody tr th:only-of-type {\n",
       "        vertical-align: middle;\n",
       "    }\n",
       "\n",
       "    .dataframe tbody tr th {\n",
       "        vertical-align: top;\n",
       "    }\n",
       "\n",
       "    .dataframe thead th {\n",
       "        text-align: right;\n",
       "    }\n",
       "</style>\n",
       "<table border=\"1\" class=\"dataframe\">\n",
       "  <thead>\n",
       "    <tr style=\"text-align: right;\">\n",
       "      <th></th>\n",
       "      <th>Sales Agent</th>\n",
       "      <th>Total_Sales</th>\n",
       "    </tr>\n",
       "  </thead>\n",
       "  <tbody>\n",
       "    <tr>\n",
       "      <th>3</th>\n",
       "      <td>Emeka</td>\n",
       "      <td>3109.44</td>\n",
       "    </tr>\n",
       "    <tr>\n",
       "      <th>2</th>\n",
       "      <td>Chioma</td>\n",
       "      <td>3102.30</td>\n",
       "    </tr>\n",
       "    <tr>\n",
       "      <th>6</th>\n",
       "      <td>Tolu</td>\n",
       "      <td>2812.19</td>\n",
       "    </tr>\n",
       "    <tr>\n",
       "      <th>0</th>\n",
       "      <td>Blessing</td>\n",
       "      <td>2363.04</td>\n",
       "    </tr>\n",
       "    <tr>\n",
       "      <th>5</th>\n",
       "      <td>Ibrahim</td>\n",
       "      <td>1749.87</td>\n",
       "    </tr>\n",
       "  </tbody>\n",
       "</table>\n",
       "</div>"
      ],
      "text/plain": [
       "  Sales Agent  Total_Sales\n",
       "3       Emeka      3109.44\n",
       "2      Chioma      3102.30\n",
       "6        Tolu      2812.19\n",
       "0    Blessing      2363.04\n",
       "5     Ibrahim      1749.87"
      ]
     },
     "execution_count": 16,
     "metadata": {},
     "output_type": "execute_result"
    }
   ],
   "source": [
    "# Top-performing sales agent by total sales across all branches\n",
    "agent_total_sales = (\n",
    "\tdf.assign(Total_Sales=df['Units'] * df['Price'])\n",
    "\t  .groupby('Sales Agent', as_index=False)['Total_Sales']\n",
    "\t  .sum()\n",
    "\t  .sort_values('Total_Sales', ascending=False)\n",
    ")\n",
    "\n",
    "# Display the full agent totals and the top performer\n",
    "agent_total_sales.head()"
   ]
  },
  {
   "cell_type": "markdown",
   "id": "2a34ed4b",
   "metadata": {},
   "source": [
    "### d. Introducing and Filling Missing Values (6 marks)\n",
    "Using NumPy, introduce missing values in the Price column for rows 5, 15, and 25. After that, fill the missing values using the median of the Price column."
   ]
  },
  {
   "cell_type": "code",
   "execution_count": 27,
   "id": "fc8505cf",
   "metadata": {},
   "outputs": [
    {
     "name": "stdout",
     "output_type": "stream",
     "text": [
      "Filled median: 4.99\n"
     ]
    },
    {
     "name": "stderr",
     "output_type": "stream",
     "text": [
      "C:\\Users\\Oluwaseyi\\AppData\\Local\\Temp\\ipykernel_18908\\4128073551.py:6: FutureWarning: A value is trying to be set on a copy of a DataFrame or Series through chained assignment using an inplace method.\n",
      "The behavior will change in pandas 3.0. This inplace method will never work because the intermediate object on which we are setting values always behaves as a copy.\n",
      "\n",
      "For example, when doing 'df[col].method(value, inplace=True)', try using 'df.method({col: value}, inplace=True)' or df[col] = df[col].method(value) instead, to perform the operation inplace on the original object.\n",
      "\n",
      "\n",
      "  df['Price'].fillna(price_median, inplace=True)\n"
     ]
    },
    {
     "data": {
      "text/html": [
       "<div>\n",
       "<style scoped>\n",
       "    .dataframe tbody tr th:only-of-type {\n",
       "        vertical-align: middle;\n",
       "    }\n",
       "\n",
       "    .dataframe tbody tr th {\n",
       "        vertical-align: top;\n",
       "    }\n",
       "\n",
       "    .dataframe thead th {\n",
       "        text-align: right;\n",
       "    }\n",
       "</style>\n",
       "<table border=\"1\" class=\"dataframe\">\n",
       "  <thead>\n",
       "    <tr style=\"text-align: right;\">\n",
       "      <th></th>\n",
       "      <th>Price</th>\n",
       "    </tr>\n",
       "  </thead>\n",
       "  <tbody>\n",
       "    <tr>\n",
       "      <th>5</th>\n",
       "      <td>4.99</td>\n",
       "    </tr>\n",
       "    <tr>\n",
       "      <th>15</th>\n",
       "      <td>4.99</td>\n",
       "    </tr>\n",
       "    <tr>\n",
       "      <th>25</th>\n",
       "      <td>4.99</td>\n",
       "    </tr>\n",
       "  </tbody>\n",
       "</table>\n",
       "</div>"
      ],
      "text/plain": [
       "    Price\n",
       "5    4.99\n",
       "15   4.99\n",
       "25   4.99"
      ]
     },
     "execution_count": 27,
     "metadata": {},
     "output_type": "execute_result"
    }
   ],
   "source": [
    "# Introduce NaNs in Price for rows 5, 15, 25\n",
    "df.loc[[5, 15, 25], 'Price'] = numpy.nan\n",
    "\n",
    "# Compute median and fill missing values\n",
    "price_median = df['Price'].median()\n",
    "df['Price'].fillna(price_median, inplace=True)\n",
    "\n",
    "# Confirm changes\n",
    "print(\"Filled median:\", price_median)\n",
    "df.loc[[5, 15, 25], ['Price']]\n"
   ]
  },
  {
   "cell_type": "markdown",
   "id": "8811218c",
   "metadata": {},
   "source": [
    "### e. Product-Level Summary (6 marks)\n",
    "Generate a summary DataFrame that shows each product’s average price and total units sold."
   ]
  },
  {
   "cell_type": "code",
   "execution_count": 28,
   "id": "39c0759b",
   "metadata": {},
   "outputs": [
    {
     "data": {
      "text/html": [
       "<div>\n",
       "<style scoped>\n",
       "    .dataframe tbody tr th:only-of-type {\n",
       "        vertical-align: middle;\n",
       "    }\n",
       "\n",
       "    .dataframe tbody tr th {\n",
       "        vertical-align: top;\n",
       "    }\n",
       "\n",
       "    .dataframe thead th {\n",
       "        text-align: right;\n",
       "    }\n",
       "</style>\n",
       "<table border=\"1\" class=\"dataframe\">\n",
       "  <thead>\n",
       "    <tr style=\"text-align: right;\">\n",
       "      <th></th>\n",
       "      <th>Products</th>\n",
       "      <th>Average_Price</th>\n",
       "      <th>Total_Units_Sold</th>\n",
       "    </tr>\n",
       "  </thead>\n",
       "  <tbody>\n",
       "    <tr>\n",
       "      <th>0</th>\n",
       "      <td>HP</td>\n",
       "      <td>11.52</td>\n",
       "      <td>722</td>\n",
       "    </tr>\n",
       "    <tr>\n",
       "      <th>1</th>\n",
       "      <td>Lenovo</td>\n",
       "      <td>3.01</td>\n",
       "      <td>716</td>\n",
       "    </tr>\n",
       "    <tr>\n",
       "      <th>2</th>\n",
       "      <td>Dell</td>\n",
       "      <td>11.91</td>\n",
       "      <td>395</td>\n",
       "    </tr>\n",
       "    <tr>\n",
       "      <th>3</th>\n",
       "      <td>Compaq</td>\n",
       "      <td>5.19</td>\n",
       "      <td>278</td>\n",
       "    </tr>\n",
       "    <tr>\n",
       "      <th>4</th>\n",
       "      <td>Apple</td>\n",
       "      <td>175.00</td>\n",
       "      <td>10</td>\n",
       "    </tr>\n",
       "  </tbody>\n",
       "</table>\n",
       "</div>"
      ],
      "text/plain": [
       "  Products  Average_Price  Total_Units_Sold\n",
       "0       HP          11.52               722\n",
       "1   Lenovo           3.01               716\n",
       "2     Dell          11.91               395\n",
       "3   Compaq           5.19               278\n",
       "4    Apple         175.00                10"
      ]
     },
     "execution_count": 28,
     "metadata": {},
     "output_type": "execute_result"
    }
   ],
   "source": [
    "# Product-level summary: average price and total units sold\n",
    "product_summary = (\n",
    "\tdf.groupby('Products', as_index=False)\n",
    "\t  .agg(Average_Price=('Price', 'mean'),\n",
    "\t\t   Total_Units_Sold=('Units', 'sum'))\n",
    ")\n",
    "\n",
    "# Round average price and sort by total units sold\n",
    "product_summary['Average_Price'] = product_summary['Average_Price'].round(2)\n",
    "product_summary = product_summary.sort_values('Total_Units_Sold', ascending=False).reset_index(drop=True)\n",
    "\n",
    "product_summary"
   ]
  },
  {
   "cell_type": "markdown",
   "id": "838ff6ca",
   "metadata": {},
   "source": [
    "## Question2 - Numpy for numeric computation\n",
    "\n",
    "### Instructions\n",
    "You are required to perform the following data analysis and manipulation tasks using NumPy.\n",
    "\n",
    "Simulate or generate arrays as instructed in each question.\n",
    "\n",
    "Write clean, well-commented, and efficient Python code for each solution.\n",
    "\n",
    "Ensure that each output is properly displayed and easy to interpret.\n",
    "\n",
    "Each question carries 2 marks, for a total of 10 marks.\n",
    "\n",
    "Include both your code and outputs for every question.\n",
    "\n",
    "Follow consistent formatting and clear naming conventions for variables."
   ]
  },
  {
   "cell_type": "markdown",
   "id": "0b9645c5",
   "metadata": {},
   "source": [
    "### a. Array Creation and Basic Manipulation (6 marks)\n",
    "Create a NumPy array containing 20 random integers between 10 and 100. Then perform the following tasks:\n",
    "\n",
    "Reshape the array into a 4×5 matrix.\n",
    "\n",
    "Extract the first two rows and last three columns from the reshaped array.\n",
    "\n",
    "Compute the mean and standard deviation of the entire array."
   ]
  },
  {
   "cell_type": "code",
   "execution_count": 29,
   "id": "06e7a0ed",
   "metadata": {},
   "outputs": [
    {
     "name": "stdout",
     "output_type": "stream",
     "text": [
      "Original 1D array: [54 57 74 77 77 19 93 31 46 97 80 98 98 22 68 75 49 97 56 98]\n",
      "\n",
      "Reshaped (4x5):\n",
      " [[54 57 74 77 77]\n",
      " [19 93 31 46 97]\n",
      " [80 98 98 22 68]\n",
      " [75 49 97 56 98]]\n",
      "\n",
      "First two rows, last three columns:\n",
      " [[74 77 77]\n",
      " [31 46 97]]\n",
      "\n",
      "Mean: 68.30\n",
      "Standard Deviation: 25.09\n"
     ]
    }
   ],
   "source": [
    "# Create 20 random integers between 10 and 100 (inclusive)\n",
    "numpy.random.seed(0)  # for reproducibility\n",
    "arr = numpy.random.randint(10, 101, size=20)\n",
    "\n",
    "# Reshape into a 4x5 matrix\n",
    "arr_reshaped = arr.reshape(4, 5)\n",
    "\n",
    "# Extract the first two rows and last three columns\n",
    "subarray = arr_reshaped[:2, -3:]\n",
    "\n",
    "# Compute mean and standard deviation of the entire array\n",
    "mean_val = arr.mean()\n",
    "std_val = arr.std()\n",
    "\n",
    "# Display results\n",
    "print(\"Original 1D array:\", arr)\n",
    "print(\"\\nReshaped (4x5):\\n\", arr_reshaped)\n",
    "print(\"\\nFirst two rows, last three columns:\\n\", subarray)\n",
    "print(f\"\\nMean: {mean_val:.2f}\")\n",
    "print(f\"Standard Deviation: {std_val:.2f}\")"
   ]
  },
  {
   "cell_type": "markdown",
   "id": "4cf3d6e3",
   "metadata": {},
   "source": [
    "### b. Operations on 2D Arrays (6 marks)\n",
    "Simulate a 2D array representing students’ scores in 5 subjects (10 students).\n",
    "\n",
    "Calculate the average score per student.\n",
    "Determine the highest and lowest score in the dataset."
   ]
  },
  {
   "cell_type": "code",
   "execution_count": 30,
   "id": "3abab246",
   "metadata": {},
   "outputs": [
    {
     "data": {
      "text/plain": [
       "(   Subject_1  Subject_2  Subject_3  Subject_4  Subject_5  Average\n",
       " 0         81         37         25         77         72     58.4\n",
       " 1          9         20         80         69         79     51.4\n",
       " 2         47         64         82         99         88     76.0\n",
       " 3         49         29         19         19         14     26.0\n",
       " 4         39         32         65          9         57     40.4\n",
       " 5         32         31         74         23         35     39.0\n",
       " 6         75         55         28         34          0     38.4\n",
       " 7          0         36         53          5         38     26.4\n",
       " 8         17         79          4         42         58     40.0\n",
       " 9         31          1         65         41         57     39.0,\n",
       " np.int32(99),\n",
       " np.int32(0))"
      ]
     },
     "execution_count": 30,
     "metadata": {},
     "output_type": "execute_result"
    }
   ],
   "source": [
    "# Simulate 10 students x 5 subjects (scores 0-100)\n",
    "scores = numpy.random.randint(0, 101, size=(10, 5))\n",
    "\n",
    "# Average score per student\n",
    "student_avg = scores.mean(axis=1).round(2)\n",
    "\n",
    "# Highest and lowest score in the dataset\n",
    "highest_score = scores.max()\n",
    "lowest_score = scores.min()\n",
    "\n",
    "# Present results as a DataFrame\n",
    "scores_df = pd.DataFrame(scores, columns=[f\"Subject_{i+1}\" for i in range(scores.shape[1])])\n",
    "scores_df['Average'] = student_avg\n",
    "\n",
    "# Display\n",
    "scores_df, highest_score, lowest_score"
   ]
  },
  {
   "cell_type": "markdown",
   "id": "29b7b8af",
   "metadata": {},
   "source": [
    "### c. Working with 3D Arrays (6 marks)\n",
    "Create a 3D NumPy array with dimensions (3, 4, 2) filled with random integers between 1 and 20. Perform the following:\n",
    "\n",
    "Find the sum of elements across the second axis.\n",
    "Compute the maximum value along each layer.\n",
    "Flatten the entire 3D array into a 1D array."
   ]
  },
  {
   "cell_type": "code",
   "execution_count": 31,
   "id": "240bd481",
   "metadata": {},
   "outputs": [
    {
     "name": "stdout",
     "output_type": "stream",
     "text": [
      "3D array (shape (3, 4, 2)):\n",
      "[[[ 6 12]\n",
      "  [13  9]\n",
      "  [10 12]\n",
      "  [ 6 16]]\n",
      "\n",
      " [[ 1 17]\n",
      "  [ 2 13]\n",
      "  [ 8 14]\n",
      "  [ 7 19]]\n",
      "\n",
      " [[ 6 19]\n",
      "  [12 11]\n",
      "  [15 19]\n",
      "  [ 5 10]]]\n",
      "\n",
      "Sum across the second axis (axis=1) (shape (3, 2)):\n",
      "[[35 49]\n",
      " [18 63]\n",
      " [38 59]]\n",
      "\n",
      "Maximum value in each 2D layer (shape (3,)):\n",
      "[16 19 19]\n",
      "\n",
      "Flattened array (length 24):\n",
      "[ 6 12 13  9 10 12  6 16  1 17  2 13  8 14  7 19  6 19 12 11 15 19  5 10]\n"
     ]
    }
   ],
   "source": [
    "# Create a 3D NumPy array (3, 4, 2) with random integers between 1 and 20\n",
    "numpy.random.seed(1)  # for reproducibility\n",
    "three_d = numpy.random.randint(1, 21, size=(3, 4, 2))\n",
    "\n",
    "# 1) Sum of elements across the second axis (axis=1)\n",
    "sum_across_second_axis = three_d.sum(axis=1)  # result shape: (3, 2)\n",
    "\n",
    "# 2) Maximum value along each 2D layer (each slice along axis=0)\n",
    "max_per_layer = three_d.max(axis=(1, 2))  # result shape: (3,)\n",
    "\n",
    "# 3) Flatten the entire 3D array into a 1D array\n",
    "flattened = three_d.ravel()\n",
    "\n",
    "# Display results\n",
    "print(\"3D array (shape {}):\\n{}\".format(three_d.shape, three_d))\n",
    "print(\"\\nSum across the second axis (axis=1) (shape {}):\\n{}\".format(sum_across_second_axis.shape, sum_across_second_axis))\n",
    "print(\"\\nMaximum value in each 2D layer (shape {}):\\n{}\".format(max_per_layer.shape, max_per_layer))\n",
    "print(\"\\nFlattened array (length {}):\\n{}\".format(flattened.size, flattened))"
   ]
  },
  {
   "cell_type": "markdown",
   "id": "598e60f6",
   "metadata": {},
   "source": [
    "## Question3 - Statistics for statistical analysis\n",
    "Instructions\n",
    "Read all questions below carefully.\n",
    "You are required to use the Markdown section of your Jupyter Notebook (.ipynb) to compute and present your solutions for all questions.\n",
    "Show all necessary code, workings, and provide brief text explanations for your answers where required."
   ]
  },
  {
   "cell_type": "markdown",
   "id": "e368962b",
   "metadata": {},
   "source": [
    "### a. Measures of Center and Spread(6 marks)\n",
    "\n",
    "Given the dataset of $CO_2$ emissions (in metric tons per capita) from five countries: [25.4, 30.2, 22.5, 28.1, 35.0]\n",
    "\n",
    "(a) Compute the mean, median, and mode.\n",
    "(b) Determine the range and standard deviation.\n",
    "(c) Comment briefly on the spread of the data."
   ]
  },
  {
   "cell_type": "code",
   "execution_count": 48,
   "id": "063d40e0",
   "metadata": {},
   "outputs": [
    {
     "name": "stdout",
     "output_type": "stream",
     "text": [
      "Mean: 28.24\n",
      "Median: 28.10\n",
      "Mode: No unique mode (all values appear once)\n",
      "Range: 12.50\n",
      "Standard Deviation: 4.26\n",
      "\n",
      "Comment: The values are moderately spread around the mean (std ≈ 4.26) with a range of 12.50; no repeated values, so no unique mode.\n"
     ]
    }
   ],
   "source": [
    "# Compute measures for CO2 emissions dataset\n",
    "data = numpy.array([25.4, 30.2, 22.5, 28.1, 35.0])\n",
    "\n",
    "mean_val = data.mean()\n",
    "median_val = numpy.median(data)\n",
    "\n",
    "# Determine mode(s) using pandas (handles ties); if all unique -> no mode\n",
    "counts = pd.Series(data).value_counts()\n",
    "if counts.max() == 1:\n",
    "\tmodes = None\n",
    "else:\n",
    "\tmodes = counts[counts == counts.max()].index.tolist()\n",
    "\n",
    "range_val = data.max() - data.min()\n",
    "std_val = data.std()  # population std (ddof=0), consistent with earlier cells\n",
    "\n",
    "# Display results\n",
    "print(f\"Mean: {mean_val:.2f}\")\n",
    "print(f\"Median: {median_val:.2f}\")\n",
    "print(f\"Mode: {modes if modes is not None else 'No unique mode (all values appear once)'}\")\n",
    "print(f\"Range: {range_val:.2f}\")\n",
    "print(f\"Standard Deviation: {std_val:.2f}\")\n",
    "\n",
    "# Brief comment on spread\n",
    "print(\"\\nComment: The values are moderately spread around the mean (std ≈ \"\n",
    "\t  f\"{std_val:.2f}) with a range of {range_val:.2f}; no repeated values, so no unique mode.\")"
   ]
  },
  {
   "cell_type": "markdown",
   "id": "7747d803",
   "metadata": {},
   "source": [
    "### b. Hypothesis Testing(6 marks)\n",
    "\n",
    "Two samples of beef consumption (kg/person/year) are given:\n",
    "\n",
    "Argentina: [60, 62, 58, 63, 59]\n",
    "Bangladesh: [15, 12, 18, 14, 16]\n",
    "Perform a two-sample t-test at a 5% significance level ($\\alpha=0.05$) to determine whether there is a significant difference in mean beef consumption between the two countries.\n",
    "\n",
    "(a) State the null hypothesis ($H_0$) and the alternative hypothesis ($H_1$) clearly.\n",
    "(b) Compute the t-statistic and the p-value using your notebook.\n",
    "(c) State your conclusion based on the p-value."
   ]
  },
  {
   "cell_type": "code",
   "execution_count": 47,
   "id": "268953b1",
   "metadata": {},
   "outputs": [
    {
     "name": "stdout",
     "output_type": "stream",
     "text": [
      "H0: mu_Argentina = mu_Bangladesh\n",
      "H1: mu_Argentina != mu_Bangladesh\n",
      "\n",
      "t-statistic: 33.2889\n",
      "degrees of freedom: 7.9549\n",
      "p-value (two-sided): 7.9315e-10\n",
      "\n",
      "Conclusion: reject H0 (p < 0.05) — significant difference in mean consumption.\n"
     ]
    }
   ],
   "source": [
    "# Two-sample t-test (Welch) for Argentina vs Bangladesh beef consumption\n",
    "alpha = 0.05\n",
    "argentina = numpy.array([60, 62, 58, 63, 59])\n",
    "bangladesh = numpy.array([15, 12, 18, 14, 16])\n",
    "\n",
    "# (a) Hypotheses\n",
    "# H0: mu_Argentina = mu_Bangladesh\n",
    "# H1: mu_Argentina != mu_Bangladesh\n",
    "\n",
    "# Sample stats\n",
    "n1, n2 = argentina.size, bangladesh.size\n",
    "mean1, mean2 = argentina.mean(), bangladesh.mean()\n",
    "s1, s2 = argentina.std(ddof=1), bangladesh.std(ddof=1)\n",
    "\n",
    "# t-statistic\n",
    "t_stat = (mean1 - mean2) / numpy.sqrt(s1**2 / n1 + s2**2 / n2)\n",
    "\n",
    "# degrees of freedom\n",
    "num = (s1**2 / n1 + s2**2 / n2) ** 2\n",
    "den = (s1**4) / (n1**2 * (n1 - 1)) + (s2**4) / (n2**2 * (n2 - 1))\n",
    "df = num / den\n",
    "\n",
    "# p-value (two-sided)\n",
    "p_value = 2 * stats.t.sf(abs(t_stat), df)\n",
    "\n",
    "# Output results\n",
    "print(\"H0: mu_Argentina = mu_Bangladesh\")\n",
    "print(\"H1: mu_Argentina != mu_Bangladesh\\n\")\n",
    "print(f\"t-statistic: {t_stat:.4f}\")\n",
    "print(f\"degrees of freedom: {df:.4f}\")\n",
    "print(f\"p-value (two-sided): {p_value:.4e}\\n\")\n",
    "\n",
    "if p_value < alpha:\n",
    "\tprint(f\"Conclusion: reject H0 (p < {alpha}) — significant difference in mean consumption.\")\n",
    "else:\n",
    "\tprint(f\"Conclusion: fail to reject H0 (p >= {alpha}) — no significant difference detected.\")"
   ]
  },
  {
   "cell_type": "markdown",
   "id": "0503dc8b",
   "metadata": {},
   "source": [
    "### c. Correlation Analysis(6 marks)\n",
    "\n",
    "Given the following data for consumption (x) and $CO_2$ emission (y):\n",
    "\n",
    "Consumption (x)\t$CO_2$ Emission (y)\n",
    "10\t30\n",
    "15\t45\n",
    "20\t50\n",
    "25\t70\n",
    "30\t85\n",
    "(a) Compute the Pearson correlation coefficient (r) between x and y.\n",
    "(b) Interpret the result (comment on the strength and direction of the relationship).\n",
    "(c) Briefly explain what it means if $r \\approx 0$."
   ]
  },
  {
   "cell_type": "code",
   "execution_count": 35,
   "id": "8d50bfaa",
   "metadata": {},
   "outputs": [
    {
     "name": "stdout",
     "output_type": "stream",
     "text": [
      "Pearson r: 0.9872\n",
      "p-value: 1.7314e-03\n",
      "\n",
      "Interpretation: r is positive and close to 1, indicating a strong positive linear relationship.\n",
      "As consumption (x) increases, CO2 emission (y) tends to increase.\n",
      "\n",
      "If r ≈ 0: there is little or no linear correlation between the variables.\n",
      "This does not rule out a non-linear relationship; it only indicates no linear association.\n"
     ]
    }
   ],
   "source": [
    "# (a) Compute Pearson correlation coefficient for given x and y\n",
    "x = numpy.array([10, 15, 20, 25, 30])\n",
    "y = numpy.array([30, 45, 50, 70, 85])\n",
    "\n",
    "r, p_value = stats.pearsonr(x, y)\n",
    "\n",
    "print(f\"Pearson r: {r:.4f}\")\n",
    "print(f\"p-value: {p_value:.4e}\\n\")\n",
    "\n",
    "# (b) Interpretation (brief)\n",
    "print(\"Interpretation: r is positive and close to 1, indicating a strong positive linear relationship.\")\n",
    "print(\"As consumption (x) increases, CO2 emission (y) tends to increase.\\n\")\n",
    "\n",
    "# (c) Meaning of r ≈ 0 (brief)\n",
    "print(\"If r ≈ 0: there is little or no linear correlation between the variables.\")\n",
    "print(\"This does not rule out a non-linear relationship; it only indicates no linear association.\")"
   ]
  },
  {
   "cell_type": "markdown",
   "id": "3a15314b",
   "metadata": {},
   "source": [
    "## Question4 - Linear Algebra\n",
    "Instructions\n",
    "Background: We are analyzing the performance of 4 students in 3 subjects: Mathematics, English, and Science. The data is represented by the matrix $A$: $$A = \\begin{bmatrix} 80 & 70 & 90 \\ 60 & 85 & 75 \\ 95 & 88 & 92 \\ 70 & 60 & 65 \\end{bmatrix}$$ Each row represents a student, and each column represents a subject (Math, English, Science)."
   ]
  },
  {
   "cell_type": "markdown",
   "id": "735f7903",
   "metadata": {},
   "source": [
    "### a. Total Scores per Student(6 marks)\n",
    "\n",
    "Compute the total score for each student by summing the elements in each row. Present your result as a $4 \\times 1$ column vector."
   ]
  },
  {
   "cell_type": "code",
   "execution_count": 36,
   "id": "be9274d6",
   "metadata": {},
   "outputs": [
    {
     "data": {
      "text/plain": [
       "array([[240],\n",
       "       [220],\n",
       "       [275],\n",
       "       [195]])"
      ]
     },
     "execution_count": 36,
     "metadata": {},
     "output_type": "execute_result"
    }
   ],
   "source": [
    "# Matrix A: each row is a student, columns are [Math, English, Science]\n",
    "A = numpy.array([\n",
    "\t[80, 70, 90],\n",
    "\t[60, 85, 75],\n",
    "\t[95, 88, 92],\n",
    "\t[70, 60, 65]\n",
    "])\n",
    "\n",
    "# Total score per student as a 4x1 column vector\n",
    "total_scores = A.sum(axis=1).reshape(-1, 1)\n",
    "\n",
    "total_scores"
   ]
  },
  {
   "cell_type": "markdown",
   "id": "cb5f136e",
   "metadata": {},
   "source": [
    "### b. Average Score per Subject(6 marks)\n",
    "\n",
    "Compute the average score for each subject by calculating the mean of each column of matrix $A$. Present your result as a $1 \\times 3$ row vector representing the averages for Math, English, and Science."
   ]
  },
  {
   "cell_type": "code",
   "execution_count": 37,
   "id": "f75e7dda",
   "metadata": {},
   "outputs": [
    {
     "data": {
      "text/plain": [
       "array([[76.25, 75.75, 80.5 ]])"
      ]
     },
     "execution_count": 37,
     "metadata": {},
     "output_type": "execute_result"
    }
   ],
   "source": [
    "# Compute average score per subject for matrix A (Math, English, Science)\n",
    "subject_averages = A.mean(axis=0).reshape(1, -1)\n",
    "subject_averages"
   ]
  },
  {
   "cell_type": "markdown",
   "id": "42d0b7de",
   "metadata": {},
   "source": [
    "### c. Weighted Final Grades(6 marks)\n",
    "\n",
    "The subjects have importance weights given by the vector $w = [0.5, 0.3, 0.2]$. Use matrix multiplication to compute each student's weighted final grade. The operation is $G = A w^T$. Show the resulting column vector $G$."
   ]
  },
  {
   "cell_type": "code",
   "execution_count": 46,
   "id": "dad04f65",
   "metadata": {},
   "outputs": [
    {
     "data": {
      "text/plain": [
       "array([[79. ],\n",
       "       [70.5],\n",
       "       [92.3],\n",
       "       [66. ]])"
      ]
     },
     "execution_count": 46,
     "metadata": {},
     "output_type": "execute_result"
    }
   ],
   "source": [
    "# weights vector for [Math, English, Science]\n",
    "weight = numpy.array([0.5, 0.3, 0.2])\n",
    "\n",
    "# Compute weighted final grades: G = A @ w^T and present as a 4x1 column vector\n",
    "weighted_grade = (A @ weight).reshape(-1, 1)\n",
    "\n",
    "weighted_grade"
   ]
  },
  {
   "cell_type": "markdown",
   "id": "9e97e6f3",
   "metadata": {},
   "source": [
    "### d. Applying Subject Importance(6 marks)\n",
    "\n",
    "Suppose Mathematics is considered twice as important as English and Science.\n",
    "\n",
    "(a) Create a new matrix $A'$ by performing a scalar multiplication on the Math column of $A$ (multiply the first column by 2).\n",
    "(b) Recompute the total score for each student using this new matrix $A'$.\n",
    "(c) Compare the new totals to those from Question 6 and briefly discuss the changes."
   ]
  },
  {
   "cell_type": "code",
   "execution_count": 39,
   "id": "8d829cb1",
   "metadata": {},
   "outputs": [
    {
     "data": {
      "text/plain": [
       "(array([[160,  70,  90],\n",
       "        [120,  85,  75],\n",
       "        [190,  88,  92],\n",
       "        [140,  60,  65]]),\n",
       " array([[320],\n",
       "        [280],\n",
       "        [370],\n",
       "        [265]]),\n",
       "    Original_Total  New_Total  Difference  Pct_Change\n",
       " 0             240        320          80       33.33\n",
       " 1             220        280          60       27.27\n",
       " 2             275        370          95       34.55\n",
       " 3             195        265          70       35.90)"
      ]
     },
     "execution_count": 39,
     "metadata": {},
     "output_type": "execute_result"
    }
   ],
   "source": [
    "# (a) Create A' by doubling the Math (first) column\n",
    "A_prime = A.copy()\n",
    "A_prime[:, 0] = A_prime[:, 0] * 2\n",
    "\n",
    "# (b) Recompute total scores for each student as a 4x1 column vector\n",
    "total_scores_prime = A_prime.sum(axis=1).reshape(-1, 1)\n",
    "\n",
    "# (c) Compare new totals to the originals and show percent change\n",
    "comparison = pd.DataFrame({\n",
    "\t'Original_Total': total_scores.flatten(),\n",
    "\t'New_Total': total_scores_prime.flatten(),\n",
    "\t'Difference': (total_scores_prime - total_scores).flatten()\n",
    "})\n",
    "comparison['Pct_Change'] = (comparison['Difference'] / comparison['Original_Total'] * 100).round(2)\n",
    "\n",
    "# Display results\n",
    "A_prime, total_scores_prime, comparison"
   ]
  }
 ],
 "metadata": {
  "kernelspec": {
   "display_name": ".venv",
   "language": "python",
   "name": "python3"
  },
  "language_info": {
   "codemirror_mode": {
    "name": "ipython",
    "version": 3
   },
   "file_extension": ".py",
   "mimetype": "text/x-python",
   "name": "python",
   "nbconvert_exporter": "python",
   "pygments_lexer": "ipython3",
   "version": "3.12.6"
  }
 },
 "nbformat": 4,
 "nbformat_minor": 5
}
